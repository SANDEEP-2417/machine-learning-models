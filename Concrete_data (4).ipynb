{
 "cells": [
  {
   "cell_type": "code",
   "execution_count": 65,
   "id": "a8fdf967-7a9d-4173-8ce6-87d4598a0bd6",
   "metadata": {
    "tags": []
   },
   "outputs": [],
   "source": [
    "# importing \n",
    "\n",
    "import numpy as np\n",
    "import pandas as pd \n",
    "import matplotlib.pyplot as plt\n",
    "\n"
   ]
  },
  {
   "cell_type": "code",
   "execution_count": 2,
   "id": "1b477d60-94ea-4237-9104-45c783366844",
   "metadata": {
    "tags": []
   },
   "outputs": [],
   "source": [
    "import keras"
   ]
  },
  {
   "cell_type": "code",
   "execution_count": 3,
   "id": "fecb23e2-b98f-43e9-851d-b3b73cfe3d4e",
   "metadata": {
    "tags": []
   },
   "outputs": [],
   "source": [
    "#importing Keras model requriements \n",
    "\n",
    "from keras.models import Sequential\n",
    "from keras.layers import Dense\n",
    "from keras.utils import to_categorical\n",
    "from keras.layers import Conv2D\n",
    "from keras.layers import MaxPooling2D\n",
    "from keras.layers import Flatten"
   ]
  },
  {
   "cell_type": "code",
   "execution_count": 50,
   "id": "0a431279-cafd-473c-b241-378f358e5f6e",
   "metadata": {
    "tags": []
   },
   "outputs": [
    {
     "data": {
      "text/html": [
       "<div>\n",
       "<style scoped>\n",
       "    .dataframe tbody tr th:only-of-type {\n",
       "        vertical-align: middle;\n",
       "    }\n",
       "\n",
       "    .dataframe tbody tr th {\n",
       "        vertical-align: top;\n",
       "    }\n",
       "\n",
       "    .dataframe thead th {\n",
       "        text-align: right;\n",
       "    }\n",
       "</style>\n",
       "<table border=\"1\" class=\"dataframe\">\n",
       "  <thead>\n",
       "    <tr style=\"text-align: right;\">\n",
       "      <th></th>\n",
       "      <th>Cement</th>\n",
       "      <th>Blast Furnace Slag</th>\n",
       "      <th>Fly Ash</th>\n",
       "      <th>Water</th>\n",
       "      <th>Superplasticizer</th>\n",
       "      <th>Coarse Aggregate</th>\n",
       "      <th>Fine Aggregate</th>\n",
       "      <th>Age</th>\n",
       "      <th>Strength</th>\n",
       "    </tr>\n",
       "  </thead>\n",
       "  <tbody>\n",
       "    <tr>\n",
       "      <th>0</th>\n",
       "      <td>540.0</td>\n",
       "      <td>0.0</td>\n",
       "      <td>0.0</td>\n",
       "      <td>162.0</td>\n",
       "      <td>2.5</td>\n",
       "      <td>1040.0</td>\n",
       "      <td>676.0</td>\n",
       "      <td>28</td>\n",
       "      <td>79.99</td>\n",
       "    </tr>\n",
       "    <tr>\n",
       "      <th>1</th>\n",
       "      <td>540.0</td>\n",
       "      <td>0.0</td>\n",
       "      <td>0.0</td>\n",
       "      <td>162.0</td>\n",
       "      <td>2.5</td>\n",
       "      <td>1055.0</td>\n",
       "      <td>676.0</td>\n",
       "      <td>28</td>\n",
       "      <td>61.89</td>\n",
       "    </tr>\n",
       "    <tr>\n",
       "      <th>2</th>\n",
       "      <td>332.5</td>\n",
       "      <td>142.5</td>\n",
       "      <td>0.0</td>\n",
       "      <td>228.0</td>\n",
       "      <td>0.0</td>\n",
       "      <td>932.0</td>\n",
       "      <td>594.0</td>\n",
       "      <td>270</td>\n",
       "      <td>40.27</td>\n",
       "    </tr>\n",
       "    <tr>\n",
       "      <th>3</th>\n",
       "      <td>332.5</td>\n",
       "      <td>142.5</td>\n",
       "      <td>0.0</td>\n",
       "      <td>228.0</td>\n",
       "      <td>0.0</td>\n",
       "      <td>932.0</td>\n",
       "      <td>594.0</td>\n",
       "      <td>365</td>\n",
       "      <td>41.05</td>\n",
       "    </tr>\n",
       "    <tr>\n",
       "      <th>4</th>\n",
       "      <td>198.6</td>\n",
       "      <td>132.4</td>\n",
       "      <td>0.0</td>\n",
       "      <td>192.0</td>\n",
       "      <td>0.0</td>\n",
       "      <td>978.4</td>\n",
       "      <td>825.5</td>\n",
       "      <td>360</td>\n",
       "      <td>44.30</td>\n",
       "    </tr>\n",
       "  </tbody>\n",
       "</table>\n",
       "</div>"
      ],
      "text/plain": [
       "   Cement  Blast Furnace Slag  Fly Ash  Water  Superplasticizer  \\\n",
       "0   540.0                 0.0      0.0  162.0               2.5   \n",
       "1   540.0                 0.0      0.0  162.0               2.5   \n",
       "2   332.5               142.5      0.0  228.0               0.0   \n",
       "3   332.5               142.5      0.0  228.0               0.0   \n",
       "4   198.6               132.4      0.0  192.0               0.0   \n",
       "\n",
       "   Coarse Aggregate  Fine Aggregate  Age  Strength  \n",
       "0            1040.0           676.0   28     79.99  \n",
       "1            1055.0           676.0   28     61.89  \n",
       "2             932.0           594.0  270     40.27  \n",
       "3             932.0           594.0  365     41.05  \n",
       "4             978.4           825.5  360     44.30  "
      ]
     },
     "execution_count": 50,
     "metadata": {},
     "output_type": "execute_result"
    }
   ],
   "source": [
    "# dataset \n",
    "\n",
    "data = pd.read_csv('Downloads/concrete_data.csv')\n",
    "data.head()"
   ]
  },
  {
   "cell_type": "code",
   "execution_count": 51,
   "id": "500be7c0-30ab-4f9a-bb3f-4f8826e92b80",
   "metadata": {
    "tags": []
   },
   "outputs": [
    {
     "data": {
      "text/html": [
       "<div>\n",
       "<style scoped>\n",
       "    .dataframe tbody tr th:only-of-type {\n",
       "        vertical-align: middle;\n",
       "    }\n",
       "\n",
       "    .dataframe tbody tr th {\n",
       "        vertical-align: top;\n",
       "    }\n",
       "\n",
       "    .dataframe thead th {\n",
       "        text-align: right;\n",
       "    }\n",
       "</style>\n",
       "<table border=\"1\" class=\"dataframe\">\n",
       "  <thead>\n",
       "    <tr style=\"text-align: right;\">\n",
       "      <th></th>\n",
       "      <th>Cement</th>\n",
       "      <th>Blast Furnace Slag</th>\n",
       "      <th>Fly Ash</th>\n",
       "      <th>Water</th>\n",
       "      <th>Superplasticizer</th>\n",
       "      <th>Coarse Aggregate</th>\n",
       "      <th>Fine Aggregate</th>\n",
       "      <th>Age</th>\n",
       "      <th>Strength</th>\n",
       "    </tr>\n",
       "  </thead>\n",
       "  <tbody>\n",
       "    <tr>\n",
       "      <th>count</th>\n",
       "      <td>1030.000000</td>\n",
       "      <td>1030.000000</td>\n",
       "      <td>1030.000000</td>\n",
       "      <td>1030.000000</td>\n",
       "      <td>1030.000000</td>\n",
       "      <td>1030.000000</td>\n",
       "      <td>1030.000000</td>\n",
       "      <td>1030.000000</td>\n",
       "      <td>1030.000000</td>\n",
       "    </tr>\n",
       "    <tr>\n",
       "      <th>mean</th>\n",
       "      <td>281.167864</td>\n",
       "      <td>73.895825</td>\n",
       "      <td>54.188350</td>\n",
       "      <td>181.567282</td>\n",
       "      <td>6.204660</td>\n",
       "      <td>972.918932</td>\n",
       "      <td>773.580485</td>\n",
       "      <td>45.662136</td>\n",
       "      <td>35.817961</td>\n",
       "    </tr>\n",
       "    <tr>\n",
       "      <th>std</th>\n",
       "      <td>104.506364</td>\n",
       "      <td>86.279342</td>\n",
       "      <td>63.997004</td>\n",
       "      <td>21.354219</td>\n",
       "      <td>5.973841</td>\n",
       "      <td>77.753954</td>\n",
       "      <td>80.175980</td>\n",
       "      <td>63.169912</td>\n",
       "      <td>16.705742</td>\n",
       "    </tr>\n",
       "    <tr>\n",
       "      <th>min</th>\n",
       "      <td>102.000000</td>\n",
       "      <td>0.000000</td>\n",
       "      <td>0.000000</td>\n",
       "      <td>121.800000</td>\n",
       "      <td>0.000000</td>\n",
       "      <td>801.000000</td>\n",
       "      <td>594.000000</td>\n",
       "      <td>1.000000</td>\n",
       "      <td>2.330000</td>\n",
       "    </tr>\n",
       "    <tr>\n",
       "      <th>25%</th>\n",
       "      <td>192.375000</td>\n",
       "      <td>0.000000</td>\n",
       "      <td>0.000000</td>\n",
       "      <td>164.900000</td>\n",
       "      <td>0.000000</td>\n",
       "      <td>932.000000</td>\n",
       "      <td>730.950000</td>\n",
       "      <td>7.000000</td>\n",
       "      <td>23.710000</td>\n",
       "    </tr>\n",
       "    <tr>\n",
       "      <th>50%</th>\n",
       "      <td>272.900000</td>\n",
       "      <td>22.000000</td>\n",
       "      <td>0.000000</td>\n",
       "      <td>185.000000</td>\n",
       "      <td>6.400000</td>\n",
       "      <td>968.000000</td>\n",
       "      <td>779.500000</td>\n",
       "      <td>28.000000</td>\n",
       "      <td>34.445000</td>\n",
       "    </tr>\n",
       "    <tr>\n",
       "      <th>75%</th>\n",
       "      <td>350.000000</td>\n",
       "      <td>142.950000</td>\n",
       "      <td>118.300000</td>\n",
       "      <td>192.000000</td>\n",
       "      <td>10.200000</td>\n",
       "      <td>1029.400000</td>\n",
       "      <td>824.000000</td>\n",
       "      <td>56.000000</td>\n",
       "      <td>46.135000</td>\n",
       "    </tr>\n",
       "    <tr>\n",
       "      <th>max</th>\n",
       "      <td>540.000000</td>\n",
       "      <td>359.400000</td>\n",
       "      <td>200.100000</td>\n",
       "      <td>247.000000</td>\n",
       "      <td>32.200000</td>\n",
       "      <td>1145.000000</td>\n",
       "      <td>992.600000</td>\n",
       "      <td>365.000000</td>\n",
       "      <td>82.600000</td>\n",
       "    </tr>\n",
       "  </tbody>\n",
       "</table>\n",
       "</div>"
      ],
      "text/plain": [
       "            Cement  Blast Furnace Slag      Fly Ash        Water  \\\n",
       "count  1030.000000         1030.000000  1030.000000  1030.000000   \n",
       "mean    281.167864           73.895825    54.188350   181.567282   \n",
       "std     104.506364           86.279342    63.997004    21.354219   \n",
       "min     102.000000            0.000000     0.000000   121.800000   \n",
       "25%     192.375000            0.000000     0.000000   164.900000   \n",
       "50%     272.900000           22.000000     0.000000   185.000000   \n",
       "75%     350.000000          142.950000   118.300000   192.000000   \n",
       "max     540.000000          359.400000   200.100000   247.000000   \n",
       "\n",
       "       Superplasticizer  Coarse Aggregate  Fine Aggregate          Age  \\\n",
       "count       1030.000000       1030.000000     1030.000000  1030.000000   \n",
       "mean           6.204660        972.918932      773.580485    45.662136   \n",
       "std            5.973841         77.753954       80.175980    63.169912   \n",
       "min            0.000000        801.000000      594.000000     1.000000   \n",
       "25%            0.000000        932.000000      730.950000     7.000000   \n",
       "50%            6.400000        968.000000      779.500000    28.000000   \n",
       "75%           10.200000       1029.400000      824.000000    56.000000   \n",
       "max           32.200000       1145.000000      992.600000   365.000000   \n",
       "\n",
       "          Strength  \n",
       "count  1030.000000  \n",
       "mean     35.817961  \n",
       "std      16.705742  \n",
       "min       2.330000  \n",
       "25%      23.710000  \n",
       "50%      34.445000  \n",
       "75%      46.135000  \n",
       "max      82.600000  "
      ]
     },
     "execution_count": 51,
     "metadata": {},
     "output_type": "execute_result"
    }
   ],
   "source": [
    "#describe the dataset\n",
    "data.describe()"
   ]
  },
  {
   "cell_type": "code",
   "execution_count": 52,
   "id": "e40c8454-cc26-4720-b097-d64ef95b013c",
   "metadata": {
    "tags": []
   },
   "outputs": [],
   "source": [
    "#converting the datas into float32\n",
    "\n",
    "data = data.astype('float32')\n"
   ]
  },
  {
   "cell_type": "code",
   "execution_count": 53,
   "id": "38a5d551-6195-4a2e-b374-0f6722c87d80",
   "metadata": {
    "tags": []
   },
   "outputs": [
    {
     "data": {
      "text/html": [
       "<div>\n",
       "<style scoped>\n",
       "    .dataframe tbody tr th:only-of-type {\n",
       "        vertical-align: middle;\n",
       "    }\n",
       "\n",
       "    .dataframe tbody tr th {\n",
       "        vertical-align: top;\n",
       "    }\n",
       "\n",
       "    .dataframe thead th {\n",
       "        text-align: right;\n",
       "    }\n",
       "</style>\n",
       "<table border=\"1\" class=\"dataframe\">\n",
       "  <thead>\n",
       "    <tr style=\"text-align: right;\">\n",
       "      <th></th>\n",
       "      <th>Cement</th>\n",
       "      <th>Blast Furnace Slag</th>\n",
       "      <th>Fly Ash</th>\n",
       "      <th>Water</th>\n",
       "      <th>Superplasticizer</th>\n",
       "      <th>Coarse Aggregate</th>\n",
       "      <th>Fine Aggregate</th>\n",
       "      <th>Age</th>\n",
       "      <th>Strength</th>\n",
       "    </tr>\n",
       "  </thead>\n",
       "  <tbody>\n",
       "    <tr>\n",
       "      <th>0</th>\n",
       "      <td>540.000000</td>\n",
       "      <td>0.000000</td>\n",
       "      <td>0.0</td>\n",
       "      <td>162.0</td>\n",
       "      <td>2.5</td>\n",
       "      <td>1040.000000</td>\n",
       "      <td>676.0</td>\n",
       "      <td>28.0</td>\n",
       "      <td>79.989998</td>\n",
       "    </tr>\n",
       "    <tr>\n",
       "      <th>1</th>\n",
       "      <td>540.000000</td>\n",
       "      <td>0.000000</td>\n",
       "      <td>0.0</td>\n",
       "      <td>162.0</td>\n",
       "      <td>2.5</td>\n",
       "      <td>1055.000000</td>\n",
       "      <td>676.0</td>\n",
       "      <td>28.0</td>\n",
       "      <td>61.889999</td>\n",
       "    </tr>\n",
       "    <tr>\n",
       "      <th>2</th>\n",
       "      <td>332.500000</td>\n",
       "      <td>142.500000</td>\n",
       "      <td>0.0</td>\n",
       "      <td>228.0</td>\n",
       "      <td>0.0</td>\n",
       "      <td>932.000000</td>\n",
       "      <td>594.0</td>\n",
       "      <td>270.0</td>\n",
       "      <td>40.270000</td>\n",
       "    </tr>\n",
       "    <tr>\n",
       "      <th>3</th>\n",
       "      <td>332.500000</td>\n",
       "      <td>142.500000</td>\n",
       "      <td>0.0</td>\n",
       "      <td>228.0</td>\n",
       "      <td>0.0</td>\n",
       "      <td>932.000000</td>\n",
       "      <td>594.0</td>\n",
       "      <td>365.0</td>\n",
       "      <td>41.049999</td>\n",
       "    </tr>\n",
       "    <tr>\n",
       "      <th>4</th>\n",
       "      <td>198.600006</td>\n",
       "      <td>132.399994</td>\n",
       "      <td>0.0</td>\n",
       "      <td>192.0</td>\n",
       "      <td>0.0</td>\n",
       "      <td>978.400024</td>\n",
       "      <td>825.5</td>\n",
       "      <td>360.0</td>\n",
       "      <td>44.299999</td>\n",
       "    </tr>\n",
       "  </tbody>\n",
       "</table>\n",
       "</div>"
      ],
      "text/plain": [
       "       Cement  Blast Furnace Slag  Fly Ash  Water  Superplasticizer  \\\n",
       "0  540.000000            0.000000      0.0  162.0               2.5   \n",
       "1  540.000000            0.000000      0.0  162.0               2.5   \n",
       "2  332.500000          142.500000      0.0  228.0               0.0   \n",
       "3  332.500000          142.500000      0.0  228.0               0.0   \n",
       "4  198.600006          132.399994      0.0  192.0               0.0   \n",
       "\n",
       "   Coarse Aggregate  Fine Aggregate    Age   Strength  \n",
       "0       1040.000000           676.0   28.0  79.989998  \n",
       "1       1055.000000           676.0   28.0  61.889999  \n",
       "2        932.000000           594.0  270.0  40.270000  \n",
       "3        932.000000           594.0  365.0  41.049999  \n",
       "4        978.400024           825.5  360.0  44.299999  "
      ]
     },
     "execution_count": 53,
     "metadata": {},
     "output_type": "execute_result"
    }
   ],
   "source": [
    "#checking the modified dataset\n",
    "\n",
    "data.head()"
   ]
  },
  {
   "cell_type": "code",
   "execution_count": 54,
   "id": "2a3b65e0-0417-4a48-84e3-8618ccbeb2a8",
   "metadata": {
    "tags": []
   },
   "outputs": [],
   "source": [
    "import numpy as np\n",
    "\n",
    "#separate true lables from training and testing dataset\n",
    "data_columns = data.columns\n",
    "\n",
    "predictor = data[data_columns[data_columns != 'Strength']] # all columns except Strength\n",
    "target = data['Strength'] # Strength column"
   ]
  },
  {
   "cell_type": "code",
   "execution_count": 55,
   "id": "0688c841-ace9-4b7f-8bf9-f92bc928b642",
   "metadata": {
    "tags": []
   },
   "outputs": [
    {
     "data": {
      "text/html": [
       "<div>\n",
       "<style scoped>\n",
       "    .dataframe tbody tr th:only-of-type {\n",
       "        vertical-align: middle;\n",
       "    }\n",
       "\n",
       "    .dataframe tbody tr th {\n",
       "        vertical-align: top;\n",
       "    }\n",
       "\n",
       "    .dataframe thead th {\n",
       "        text-align: right;\n",
       "    }\n",
       "</style>\n",
       "<table border=\"1\" class=\"dataframe\">\n",
       "  <thead>\n",
       "    <tr style=\"text-align: right;\">\n",
       "      <th></th>\n",
       "      <th>Cement</th>\n",
       "      <th>Blast Furnace Slag</th>\n",
       "      <th>Fly Ash</th>\n",
       "      <th>Water</th>\n",
       "      <th>Superplasticizer</th>\n",
       "      <th>Coarse Aggregate</th>\n",
       "      <th>Fine Aggregate</th>\n",
       "      <th>Age</th>\n",
       "    </tr>\n",
       "  </thead>\n",
       "  <tbody>\n",
       "    <tr>\n",
       "      <th>0</th>\n",
       "      <td>540.000000</td>\n",
       "      <td>0.000000</td>\n",
       "      <td>0.0</td>\n",
       "      <td>162.0</td>\n",
       "      <td>2.5</td>\n",
       "      <td>1040.000000</td>\n",
       "      <td>676.0</td>\n",
       "      <td>28.0</td>\n",
       "    </tr>\n",
       "    <tr>\n",
       "      <th>1</th>\n",
       "      <td>540.000000</td>\n",
       "      <td>0.000000</td>\n",
       "      <td>0.0</td>\n",
       "      <td>162.0</td>\n",
       "      <td>2.5</td>\n",
       "      <td>1055.000000</td>\n",
       "      <td>676.0</td>\n",
       "      <td>28.0</td>\n",
       "    </tr>\n",
       "    <tr>\n",
       "      <th>2</th>\n",
       "      <td>332.500000</td>\n",
       "      <td>142.500000</td>\n",
       "      <td>0.0</td>\n",
       "      <td>228.0</td>\n",
       "      <td>0.0</td>\n",
       "      <td>932.000000</td>\n",
       "      <td>594.0</td>\n",
       "      <td>270.0</td>\n",
       "    </tr>\n",
       "    <tr>\n",
       "      <th>3</th>\n",
       "      <td>332.500000</td>\n",
       "      <td>142.500000</td>\n",
       "      <td>0.0</td>\n",
       "      <td>228.0</td>\n",
       "      <td>0.0</td>\n",
       "      <td>932.000000</td>\n",
       "      <td>594.0</td>\n",
       "      <td>365.0</td>\n",
       "    </tr>\n",
       "    <tr>\n",
       "      <th>4</th>\n",
       "      <td>198.600006</td>\n",
       "      <td>132.399994</td>\n",
       "      <td>0.0</td>\n",
       "      <td>192.0</td>\n",
       "      <td>0.0</td>\n",
       "      <td>978.400024</td>\n",
       "      <td>825.5</td>\n",
       "      <td>360.0</td>\n",
       "    </tr>\n",
       "  </tbody>\n",
       "</table>\n",
       "</div>"
      ],
      "text/plain": [
       "       Cement  Blast Furnace Slag  Fly Ash  Water  Superplasticizer  \\\n",
       "0  540.000000            0.000000      0.0  162.0               2.5   \n",
       "1  540.000000            0.000000      0.0  162.0               2.5   \n",
       "2  332.500000          142.500000      0.0  228.0               0.0   \n",
       "3  332.500000          142.500000      0.0  228.0               0.0   \n",
       "4  198.600006          132.399994      0.0  192.0               0.0   \n",
       "\n",
       "   Coarse Aggregate  Fine Aggregate    Age  \n",
       "0       1040.000000           676.0   28.0  \n",
       "1       1055.000000           676.0   28.0  \n",
       "2        932.000000           594.0  270.0  \n",
       "3        932.000000           594.0  365.0  \n",
       "4        978.400024           825.5  360.0  "
      ]
     },
     "execution_count": 55,
     "metadata": {},
     "output_type": "execute_result"
    }
   ],
   "source": [
    "#prediction values\n",
    "predictor.head()"
   ]
  },
  {
   "cell_type": "code",
   "execution_count": 56,
   "id": "005da61d-9410-452a-b7b4-04b512743b4c",
   "metadata": {
    "tags": []
   },
   "outputs": [
    {
     "data": {
      "text/plain": [
       "0    79.989998\n",
       "1    61.889999\n",
       "2    40.270000\n",
       "3    41.049999\n",
       "4    44.299999\n",
       "Name: Strength, dtype: float32"
      ]
     },
     "execution_count": 56,
     "metadata": {},
     "output_type": "execute_result"
    }
   ],
   "source": [
    "#target values\n",
    "target.head()"
   ]
  },
  {
   "cell_type": "markdown",
   "id": "fc1aa228-ec04-4a30-87c5-78fc8ad729e4",
   "metadata": {},
   "source": [
    "# spliting the dataset 30% for testing "
   ]
  },
  {
   "cell_type": "code",
   "execution_count": 57,
   "id": "bc30b8ff-c9dd-463d-9971-138e2100dbf3",
   "metadata": {
    "tags": []
   },
   "outputs": [],
   "source": [
    "from sklearn.model_selection import train_test_split\n",
    "X_train, X_test, y_train, y_test = train_test_split(predictor,target, test_size=0.3, random_state=42)\n"
   ]
  },
  {
   "cell_type": "code",
   "execution_count": 58,
   "id": "4f808272-6c7f-4601-a225-878a50d6284a",
   "metadata": {
    "tags": []
   },
   "outputs": [
    {
     "data": {
      "text/plain": [
       "(721, 8)"
      ]
     },
     "execution_count": 58,
     "metadata": {},
     "output_type": "execute_result"
    }
   ],
   "source": [
    "#check shape of X_train\n",
    "X_train.shape"
   ]
  },
  {
   "cell_type": "code",
   "execution_count": 59,
   "id": "a2a0aaf0-724b-414a-86eb-b426b444fa7e",
   "metadata": {
    "tags": []
   },
   "outputs": [
    {
     "data": {
      "text/plain": [
       "(309, 8)"
      ]
     },
     "execution_count": 59,
     "metadata": {},
     "output_type": "execute_result"
    }
   ],
   "source": [
    "#check shape of X_test\n",
    "X_test.shape"
   ]
  },
  {
   "cell_type": "markdown",
   "id": "6b1c5310-ca7b-4649-b321-884a721e19ba",
   "metadata": {},
   "source": [
    "# Part A"
   ]
  },
  {
   "cell_type": "markdown",
   "id": "a93a6da8-49ae-474f-b8b3-bd0ab953c1e2",
   "metadata": {},
   "source": [
    " # Normalize the data"
   ]
  },
  {
   "cell_type": "code",
   "execution_count": 60,
   "id": "89f2d2db-aaee-4bda-bbe8-6fb8dac363e7",
   "metadata": {
    "tags": []
   },
   "outputs": [
    {
     "data": {
      "text/html": [
       "<div>\n",
       "<style scoped>\n",
       "    .dataframe tbody tr th:only-of-type {\n",
       "        vertical-align: middle;\n",
       "    }\n",
       "\n",
       "    .dataframe tbody tr th {\n",
       "        vertical-align: top;\n",
       "    }\n",
       "\n",
       "    .dataframe thead th {\n",
       "        text-align: right;\n",
       "    }\n",
       "</style>\n",
       "<table border=\"1\" class=\"dataframe\">\n",
       "  <thead>\n",
       "    <tr style=\"text-align: right;\">\n",
       "      <th></th>\n",
       "      <th>Cement</th>\n",
       "      <th>Blast Furnace Slag</th>\n",
       "      <th>Fly Ash</th>\n",
       "      <th>Water</th>\n",
       "      <th>Superplasticizer</th>\n",
       "      <th>Coarse Aggregate</th>\n",
       "      <th>Fine Aggregate</th>\n",
       "      <th>Age</th>\n",
       "    </tr>\n",
       "  </thead>\n",
       "  <tbody>\n",
       "    <tr>\n",
       "      <th>0</th>\n",
       "      <td>2.476713</td>\n",
       "      <td>-0.856473</td>\n",
       "      <td>-0.846728</td>\n",
       "      <td>-0.916319</td>\n",
       "      <td>-0.620146</td>\n",
       "      <td>0.862734</td>\n",
       "      <td>-1.217078</td>\n",
       "      <td>-0.279597</td>\n",
       "    </tr>\n",
       "    <tr>\n",
       "      <th>1</th>\n",
       "      <td>2.476713</td>\n",
       "      <td>-0.856473</td>\n",
       "      <td>-0.846728</td>\n",
       "      <td>-0.916319</td>\n",
       "      <td>-0.620146</td>\n",
       "      <td>1.055651</td>\n",
       "      <td>-1.217078</td>\n",
       "      <td>-0.279597</td>\n",
       "    </tr>\n",
       "    <tr>\n",
       "      <th>2</th>\n",
       "      <td>0.491187</td>\n",
       "      <td>0.795142</td>\n",
       "      <td>-0.846728</td>\n",
       "      <td>2.174406</td>\n",
       "      <td>-1.038636</td>\n",
       "      <td>-0.526262</td>\n",
       "      <td>-2.239828</td>\n",
       "      <td>3.551343</td>\n",
       "    </tr>\n",
       "    <tr>\n",
       "      <th>3</th>\n",
       "      <td>0.491187</td>\n",
       "      <td>0.795142</td>\n",
       "      <td>-0.846728</td>\n",
       "      <td>2.174406</td>\n",
       "      <td>-1.038636</td>\n",
       "      <td>-0.526262</td>\n",
       "      <td>-2.239828</td>\n",
       "      <td>5.055224</td>\n",
       "    </tr>\n",
       "    <tr>\n",
       "      <th>4</th>\n",
       "      <td>-0.790076</td>\n",
       "      <td>0.678080</td>\n",
       "      <td>-0.846728</td>\n",
       "      <td>0.488556</td>\n",
       "      <td>-1.038636</td>\n",
       "      <td>0.070493</td>\n",
       "      <td>0.647570</td>\n",
       "      <td>4.976072</td>\n",
       "    </tr>\n",
       "  </tbody>\n",
       "</table>\n",
       "</div>"
      ],
      "text/plain": [
       "     Cement  Blast Furnace Slag   Fly Ash     Water  Superplasticizer  \\\n",
       "0  2.476713           -0.856473 -0.846728 -0.916319         -0.620146   \n",
       "1  2.476713           -0.856473 -0.846728 -0.916319         -0.620146   \n",
       "2  0.491187            0.795142 -0.846728  2.174406         -1.038636   \n",
       "3  0.491187            0.795142 -0.846728  2.174406         -1.038636   \n",
       "4 -0.790076            0.678080 -0.846728  0.488556         -1.038636   \n",
       "\n",
       "   Coarse Aggregate  Fine Aggregate       Age  \n",
       "0          0.862734       -1.217078 -0.279597  \n",
       "1          1.055651       -1.217078 -0.279597  \n",
       "2         -0.526262       -2.239828  3.551343  \n",
       "3         -0.526262       -2.239828  5.055224  \n",
       "4          0.070493        0.647570  4.976072  "
      ]
     },
     "execution_count": 60,
     "metadata": {},
     "output_type": "execute_result"
    }
   ],
   "source": [
    "# Normalize the train data\n",
    "predictors_norm = (predictor- predictor.mean()) / predictor.std()\n",
    "predictors_norm.head()"
   ]
  },
  {
   "cell_type": "code",
   "execution_count": 61,
   "id": "4d812c08-a5ec-4a2a-bdda-65a8a9461dff",
   "metadata": {
    "tags": []
   },
   "outputs": [
    {
     "data": {
      "text/html": [
       "<div>\n",
       "<style scoped>\n",
       "    .dataframe tbody tr th:only-of-type {\n",
       "        vertical-align: middle;\n",
       "    }\n",
       "\n",
       "    .dataframe tbody tr th {\n",
       "        vertical-align: top;\n",
       "    }\n",
       "\n",
       "    .dataframe thead th {\n",
       "        text-align: right;\n",
       "    }\n",
       "</style>\n",
       "<table border=\"1\" class=\"dataframe\">\n",
       "  <thead>\n",
       "    <tr style=\"text-align: right;\">\n",
       "      <th></th>\n",
       "      <th>Cement</th>\n",
       "      <th>Blast Furnace Slag</th>\n",
       "      <th>Fly Ash</th>\n",
       "      <th>Water</th>\n",
       "      <th>Superplasticizer</th>\n",
       "      <th>Coarse Aggregate</th>\n",
       "      <th>Fine Aggregate</th>\n",
       "      <th>Age</th>\n",
       "    </tr>\n",
       "  </thead>\n",
       "  <tbody>\n",
       "    <tr>\n",
       "      <th>31</th>\n",
       "      <td>-0.080275</td>\n",
       "      <td>0.513998</td>\n",
       "      <td>-0.919251</td>\n",
       "      <td>2.152678</td>\n",
       "      <td>-1.099856</td>\n",
       "      <td>-0.511079</td>\n",
       "      <td>-1.347390</td>\n",
       "      <td>4.803080</td>\n",
       "    </tr>\n",
       "    <tr>\n",
       "      <th>109</th>\n",
       "      <td>0.940408</td>\n",
       "      <td>1.418580</td>\n",
       "      <td>-0.919251</td>\n",
       "      <td>-0.737985</td>\n",
       "      <td>0.897876</td>\n",
       "      <td>-0.344080</td>\n",
       "      <td>-0.278088</td>\n",
       "      <td>-0.566293</td>\n",
       "    </tr>\n",
       "    <tr>\n",
       "      <th>136</th>\n",
       "      <td>1.228861</td>\n",
       "      <td>1.418580</td>\n",
       "      <td>-0.919251</td>\n",
       "      <td>-1.608390</td>\n",
       "      <td>2.688946</td>\n",
       "      <td>-0.344080</td>\n",
       "      <td>-0.278088</td>\n",
       "      <td>-0.251330</td>\n",
       "    </tr>\n",
       "    <tr>\n",
       "      <th>88</th>\n",
       "      <td>0.940408</td>\n",
       "      <td>1.418580</td>\n",
       "      <td>-0.919251</td>\n",
       "      <td>-0.737985</td>\n",
       "      <td>0.897876</td>\n",
       "      <td>-0.344080</td>\n",
       "      <td>-0.278088</td>\n",
       "      <td>-0.626286</td>\n",
       "    </tr>\n",
       "    <tr>\n",
       "      <th>918</th>\n",
       "      <td>-1.358769</td>\n",
       "      <td>-0.860967</td>\n",
       "      <td>1.856630</td>\n",
       "      <td>0.961596</td>\n",
       "      <td>0.277890</td>\n",
       "      <td>-1.931229</td>\n",
       "      <td>1.132692</td>\n",
       "      <td>-0.251330</td>\n",
       "    </tr>\n",
       "  </tbody>\n",
       "</table>\n",
       "</div>"
      ],
      "text/plain": [
       "       Cement  Blast Furnace Slag   Fly Ash     Water  Superplasticizer  \\\n",
       "31  -0.080275            0.513998 -0.919251  2.152678         -1.099856   \n",
       "109  0.940408            1.418580 -0.919251 -0.737985          0.897876   \n",
       "136  1.228861            1.418580 -0.919251 -1.608390          2.688946   \n",
       "88   0.940408            1.418580 -0.919251 -0.737985          0.897876   \n",
       "918 -1.358769           -0.860967  1.856630  0.961596          0.277890   \n",
       "\n",
       "     Coarse Aggregate  Fine Aggregate       Age  \n",
       "31          -0.511079       -1.347390  4.803080  \n",
       "109         -0.344080       -0.278088 -0.566293  \n",
       "136         -0.344080       -0.278088 -0.251330  \n",
       "88          -0.344080       -0.278088 -0.626286  \n",
       "918         -1.931229        1.132692 -0.251330  "
      ]
     },
     "execution_count": 61,
     "metadata": {},
     "output_type": "execute_result"
    }
   ],
   "source": [
    "# Normalize the test data\n",
    "X_test_norm = (X_test- X_test.mean()) / X_test.std()\n",
    "X_test_norm.head()"
   ]
  },
  {
   "cell_type": "code",
   "execution_count": null,
   "id": "6fde134f-614f-4cbc-8a4b-1ea2954ceb37",
   "metadata": {},
   "outputs": [],
   "source": []
  },
  {
   "cell_type": "code",
   "execution_count": 62,
   "id": "dfebb994-7d5c-4f48-b4d0-96ca324bbf69",
   "metadata": {
    "tags": []
   },
   "outputs": [],
   "source": [
    "n_columns = predictors_norm.shape[1] #number of predictors"
   ]
  },
  {
   "cell_type": "markdown",
   "id": "15cee9d5-2665-4e09-9e80-cc5236b8ba59",
   "metadata": {},
   "source": [
    "__checking the input shape to nerual network__"
   ]
  },
  {
   "cell_type": "code",
   "execution_count": 63,
   "id": "e9276a37-802a-4e9a-b508-8faa6f5dab54",
   "metadata": {
    "tags": []
   },
   "outputs": [
    {
     "data": {
      "text/plain": [
       "8"
      ]
     },
     "execution_count": 63,
     "metadata": {},
     "output_type": "execute_result"
    }
   ],
   "source": [
    "n_columns"
   ]
  },
  {
   "cell_type": "markdown",
   "id": "4819c1e2-959e-4785-9365-f284bab2eb20",
   "metadata": {},
   "source": [
    "# Build Keras library Three hidden layers, each of 10 nodes and ReLU activation function"
   ]
  },
  {
   "cell_type": "code",
   "execution_count": 94,
   "id": "a2f26b6d-610e-45af-a12e-eb81a6774dd7",
   "metadata": {
    "tags": []
   },
   "outputs": [],
   "source": [
    "def regression_model():\n",
    "    \n",
    "    #cerate model\n",
    "    model = Sequential()\n",
    "    model.add(Dense(10, activation='relu', input_shape=(8,)))\n",
    "    model.add(Dense(10, activation='relu'))\n",
    "    model.add(Dense(10, activation='relu'))\n",
    "    \n",
    "    model.add(Dense(1))\n",
    "    \n",
    "    \n",
    "    #complie the model\n",
    "    \n",
    "    model.compile(optimizer='adam', loss='mean_squared_error')\n",
    "    return model"
   ]
  },
  {
   "cell_type": "code",
   "execution_count": 95,
   "id": "ab0116a9-817d-474e-a875-c428ba2d86da",
   "metadata": {
    "tags": []
   },
   "outputs": [
    {
     "name": "stderr",
     "output_type": "stream",
     "text": [
      "C:\\Users\\sande\\anaconda3\\Lib\\site-packages\\keras\\src\\layers\\core\\dense.py:88: UserWarning: Do not pass an `input_shape`/`input_dim` argument to a layer. When using Sequential models, prefer using an `Input(shape)` object as the first layer in the model instead.\n",
      "  super().__init__(activity_regularizer=activity_regularizer, **kwargs)\n"
     ]
    }
   ],
   "source": [
    "#build the model \n",
    "model = regression_model()"
   ]
  },
  {
   "cell_type": "markdown",
   "id": "f49d8844-c93e-4ce7-927a-0d332cf12422",
   "metadata": {},
   "source": [
    "# 100 epochs"
   ]
  },
  {
   "cell_type": "code",
   "execution_count": 96,
   "id": "c06928ed-9dd0-42b3-be68-35253bf36de2",
   "metadata": {
    "tags": []
   },
   "outputs": [
    {
     "name": "stdout",
     "output_type": "stream",
     "text": [
      "Epoch 1/100\n",
      "33/33 - 1s - 33ms/step - loss: 1514.6112\n",
      "Epoch 2/100\n",
      "33/33 - 0s - 2ms/step - loss: 1442.1776\n",
      "Epoch 3/100\n",
      "33/33 - 0s - 2ms/step - loss: 1324.2444\n",
      "Epoch 4/100\n",
      "33/33 - 0s - 2ms/step - loss: 1135.1538\n",
      "Epoch 5/100\n",
      "33/33 - 0s - 2ms/step - loss: 855.4112\n",
      "Epoch 6/100\n",
      "33/33 - 0s - 3ms/step - loss: 527.2828\n",
      "Epoch 7/100\n",
      "33/33 - 0s - 2ms/step - loss: 280.1713\n",
      "Epoch 8/100\n",
      "33/33 - 0s - 2ms/step - loss: 226.7405\n",
      "Epoch 9/100\n",
      "33/33 - 0s - 2ms/step - loss: 205.1965\n",
      "Epoch 10/100\n",
      "33/33 - 0s - 2ms/step - loss: 199.9002\n",
      "Epoch 11/100\n",
      "33/33 - 0s - 2ms/step - loss: 191.9199\n",
      "Epoch 12/100\n",
      "33/33 - 0s - 2ms/step - loss: 187.9336\n",
      "Epoch 13/100\n",
      "33/33 - 0s - 2ms/step - loss: 181.3739\n",
      "Epoch 14/100\n",
      "33/33 - 0s - 2ms/step - loss: 178.8828\n",
      "Epoch 15/100\n",
      "33/33 - 0s - 2ms/step - loss: 179.0000\n",
      "Epoch 16/100\n",
      "33/33 - 0s - 2ms/step - loss: 175.6924\n",
      "Epoch 17/100\n",
      "33/33 - 0s - 2ms/step - loss: 170.1163\n",
      "Epoch 18/100\n",
      "33/33 - 0s - 2ms/step - loss: 171.4765\n",
      "Epoch 19/100\n",
      "33/33 - 0s - 2ms/step - loss: 166.7727\n",
      "Epoch 20/100\n",
      "33/33 - 0s - 2ms/step - loss: 159.9147\n",
      "Epoch 21/100\n",
      "33/33 - 0s - 2ms/step - loss: 156.4020\n",
      "Epoch 22/100\n",
      "33/33 - 0s - 2ms/step - loss: 161.3296\n",
      "Epoch 23/100\n",
      "33/33 - 0s - 2ms/step - loss: 153.7668\n",
      "Epoch 24/100\n",
      "33/33 - 0s - 2ms/step - loss: 147.7989\n",
      "Epoch 25/100\n",
      "33/33 - 0s - 2ms/step - loss: 147.9005\n",
      "Epoch 26/100\n",
      "33/33 - 0s - 2ms/step - loss: 148.3661\n",
      "Epoch 27/100\n",
      "33/33 - 0s - 2ms/step - loss: 141.4768\n",
      "Epoch 28/100\n",
      "33/33 - 0s - 2ms/step - loss: 139.2997\n",
      "Epoch 29/100\n",
      "33/33 - 0s - 2ms/step - loss: 138.2342\n",
      "Epoch 30/100\n",
      "33/33 - 0s - 2ms/step - loss: 136.8628\n",
      "Epoch 31/100\n",
      "33/33 - 0s - 2ms/step - loss: 135.1966\n",
      "Epoch 32/100\n",
      "33/33 - 0s - 2ms/step - loss: 133.6411\n",
      "Epoch 33/100\n",
      "33/33 - 0s - 2ms/step - loss: 133.4588\n",
      "Epoch 34/100\n",
      "33/33 - 0s - 2ms/step - loss: 125.9185\n",
      "Epoch 35/100\n",
      "33/33 - 0s - 2ms/step - loss: 125.1052\n",
      "Epoch 36/100\n",
      "33/33 - 0s - 5ms/step - loss: 122.3813\n",
      "Epoch 37/100\n",
      "33/33 - 0s - 2ms/step - loss: 120.5183\n",
      "Epoch 38/100\n",
      "33/33 - 0s - 2ms/step - loss: 117.6027\n",
      "Epoch 39/100\n",
      "33/33 - 0s - 2ms/step - loss: 112.8517\n",
      "Epoch 40/100\n",
      "33/33 - 0s - 2ms/step - loss: 110.8671\n",
      "Epoch 41/100\n",
      "33/33 - 0s - 2ms/step - loss: 106.8781\n",
      "Epoch 42/100\n",
      "33/33 - 0s - 2ms/step - loss: 103.6645\n",
      "Epoch 43/100\n",
      "33/33 - 0s - 3ms/step - loss: 101.2249\n",
      "Epoch 44/100\n",
      "33/33 - 0s - 4ms/step - loss: 94.2923\n",
      "Epoch 45/100\n",
      "33/33 - 0s - 2ms/step - loss: 89.4545\n",
      "Epoch 46/100\n",
      "33/33 - 0s - 2ms/step - loss: 86.6629\n",
      "Epoch 47/100\n",
      "33/33 - 0s - 2ms/step - loss: 84.2649\n",
      "Epoch 48/100\n",
      "33/33 - 0s - 2ms/step - loss: 81.1062\n",
      "Epoch 49/100\n",
      "33/33 - 0s - 2ms/step - loss: 77.8984\n",
      "Epoch 50/100\n",
      "33/33 - 0s - 3ms/step - loss: 76.0410\n",
      "Epoch 51/100\n",
      "33/33 - 0s - 3ms/step - loss: 72.9980\n",
      "Epoch 52/100\n",
      "33/33 - 0s - 5ms/step - loss: 69.9967\n",
      "Epoch 53/100\n",
      "33/33 - 0s - 2ms/step - loss: 69.3617\n",
      "Epoch 54/100\n",
      "33/33 - 0s - 2ms/step - loss: 66.3683\n",
      "Epoch 55/100\n",
      "33/33 - 0s - 2ms/step - loss: 64.3443\n",
      "Epoch 56/100\n",
      "33/33 - 0s - 2ms/step - loss: 63.7417\n",
      "Epoch 57/100\n",
      "33/33 - 0s - 2ms/step - loss: 61.1095\n",
      "Epoch 58/100\n",
      "33/33 - 0s - 2ms/step - loss: 60.2546\n",
      "Epoch 59/100\n",
      "33/33 - 0s - 2ms/step - loss: 60.6289\n",
      "Epoch 60/100\n",
      "33/33 - 0s - 2ms/step - loss: 57.9635\n",
      "Epoch 61/100\n",
      "33/33 - 0s - 2ms/step - loss: 58.2307\n",
      "Epoch 62/100\n",
      "33/33 - 0s - 2ms/step - loss: 59.2725\n",
      "Epoch 63/100\n",
      "33/33 - 0s - 2ms/step - loss: 55.2901\n",
      "Epoch 64/100\n",
      "33/33 - 0s - 2ms/step - loss: 54.6514\n",
      "Epoch 65/100\n",
      "33/33 - 0s - 2ms/step - loss: 52.6961\n",
      "Epoch 66/100\n",
      "33/33 - 0s - 2ms/step - loss: 52.1598\n",
      "Epoch 67/100\n",
      "33/33 - 0s - 2ms/step - loss: 52.4295\n",
      "Epoch 68/100\n",
      "33/33 - 0s - 2ms/step - loss: 51.0094\n",
      "Epoch 69/100\n",
      "33/33 - 0s - 2ms/step - loss: 50.0627\n",
      "Epoch 70/100\n",
      "33/33 - 0s - 3ms/step - loss: 49.7393\n",
      "Epoch 71/100\n",
      "33/33 - 0s - 4ms/step - loss: 48.7614\n",
      "Epoch 72/100\n",
      "33/33 - 0s - 5ms/step - loss: 48.2000\n",
      "Epoch 73/100\n",
      "33/33 - 0s - 2ms/step - loss: 47.7861\n",
      "Epoch 74/100\n",
      "33/33 - 0s - 2ms/step - loss: 48.3444\n",
      "Epoch 75/100\n",
      "33/33 - 0s - 2ms/step - loss: 48.3270\n",
      "Epoch 76/100\n",
      "33/33 - 0s - 2ms/step - loss: 48.3358\n",
      "Epoch 77/100\n",
      "33/33 - 0s - 5ms/step - loss: 46.9072\n",
      "Epoch 78/100\n",
      "33/33 - 0s - 2ms/step - loss: 47.5929\n",
      "Epoch 79/100\n",
      "33/33 - 0s - 2ms/step - loss: 46.4528\n",
      "Epoch 80/100\n",
      "33/33 - 0s - 2ms/step - loss: 45.9657\n",
      "Epoch 81/100\n",
      "33/33 - 0s - 2ms/step - loss: 45.4133\n",
      "Epoch 82/100\n",
      "33/33 - 0s - 2ms/step - loss: 45.1351\n",
      "Epoch 83/100\n",
      "33/33 - 0s - 2ms/step - loss: 44.7884\n",
      "Epoch 84/100\n",
      "33/33 - 0s - 2ms/step - loss: 43.7296\n",
      "Epoch 85/100\n",
      "33/33 - 0s - 2ms/step - loss: 44.9363\n",
      "Epoch 86/100\n",
      "33/33 - 0s - 2ms/step - loss: 43.8733\n",
      "Epoch 87/100\n",
      "33/33 - 0s - 2ms/step - loss: 43.7281\n",
      "Epoch 88/100\n",
      "33/33 - 0s - 2ms/step - loss: 43.2580\n",
      "Epoch 89/100\n",
      "33/33 - 0s - 2ms/step - loss: 43.1521\n",
      "Epoch 90/100\n",
      "33/33 - 0s - 2ms/step - loss: 43.0978\n",
      "Epoch 91/100\n",
      "33/33 - 0s - 2ms/step - loss: 43.1765\n",
      "Epoch 92/100\n",
      "33/33 - 0s - 2ms/step - loss: 42.7136\n",
      "Epoch 93/100\n",
      "33/33 - 0s - 5ms/step - loss: 41.8799\n",
      "Epoch 94/100\n",
      "33/33 - 0s - 2ms/step - loss: 42.2197\n",
      "Epoch 95/100\n",
      "33/33 - 0s - 2ms/step - loss: 41.8099\n",
      "Epoch 96/100\n",
      "33/33 - 0s - 2ms/step - loss: 41.5478\n",
      "Epoch 97/100\n",
      "33/33 - 0s - 3ms/step - loss: 42.6460\n",
      "Epoch 98/100\n",
      "33/33 - 0s - 2ms/step - loss: 41.4286\n",
      "Epoch 99/100\n",
      "33/33 - 0s - 2ms/step - loss: 41.3319\n",
      "Epoch 100/100\n",
      "33/33 - 0s - 2ms/step - loss: 41.5969\n"
     ]
    },
    {
     "data": {
      "text/plain": [
       "<keras.src.callbacks.history.History at 0x23905f4dc50>"
      ]
     },
     "execution_count": 96,
     "metadata": {},
     "output_type": "execute_result"
    }
   ],
   "source": [
    "#fit the model\n",
    "model.fit(predictors_norm, target,epochs=100, verbose=2)\n"
   ]
  },
  {
   "cell_type": "markdown",
   "id": "ac6182f6-e80a-4e74-a3f7-cdf06c1bc97d",
   "metadata": {},
   "source": [
    "# Evaluate the model on test data"
   ]
  },
  {
   "cell_type": "code",
   "execution_count": 98,
   "id": "dc819eac-9293-4944-b177-1d71c2b9cd0d",
   "metadata": {
    "tags": []
   },
   "outputs": [
    {
     "name": "stdout",
     "output_type": "stream",
     "text": [
      "\u001b[1m10/10\u001b[0m \u001b[32m━━━━━━━━━━━━━━━━━━━━\u001b[0m\u001b[37m\u001b[0m \u001b[1m0s\u001b[0m 1ms/step \n"
     ]
    }
   ],
   "source": [
    "from sklearn.metrics import mean_squared_error\n",
    "\n",
    "\n",
    "y_pred = model.predict(X_test_norm)\n",
    "mse = mean_squared_error(y_test, y_pred)"
   ]
  },
  {
   "cell_type": "markdown",
   "id": "c04f12a7-ec02-4f2f-b69d-9189a7ebcd7d",
   "metadata": {},
   "source": [
    "# Repeat steps 1-3, 50 times"
   ]
  },
  {
   "cell_type": "code",
   "execution_count": 99,
   "id": "a8c7c046-7023-4d78-89cf-32f71411da67",
   "metadata": {
    "tags": []
   },
   "outputs": [
    {
     "name": "stdout",
     "output_type": "stream",
     "text": [
      "\u001b[1m10/10\u001b[0m \u001b[32m━━━━━━━━━━━━━━━━━━━━\u001b[0m\u001b[37m\u001b[0m \u001b[1m0s\u001b[0m 1ms/step \n",
      "\u001b[1m10/10\u001b[0m \u001b[32m━━━━━━━━━━━━━━━━━━━━\u001b[0m\u001b[37m\u001b[0m \u001b[1m0s\u001b[0m 1ms/step \n",
      "\u001b[1m10/10\u001b[0m \u001b[32m━━━━━━━━━━━━━━━━━━━━\u001b[0m\u001b[37m\u001b[0m \u001b[1m0s\u001b[0m 1ms/step \n",
      "\u001b[1m10/10\u001b[0m \u001b[32m━━━━━━━━━━━━━━━━━━━━\u001b[0m\u001b[37m\u001b[0m \u001b[1m0s\u001b[0m 3ms/step \n",
      "\u001b[1m10/10\u001b[0m \u001b[32m━━━━━━━━━━━━━━━━━━━━\u001b[0m\u001b[37m\u001b[0m \u001b[1m0s\u001b[0m 798us/step\n",
      "\u001b[1m10/10\u001b[0m \u001b[32m━━━━━━━━━━━━━━━━━━━━\u001b[0m\u001b[37m\u001b[0m \u001b[1m0s\u001b[0m 1ms/step \n",
      "\u001b[1m10/10\u001b[0m \u001b[32m━━━━━━━━━━━━━━━━━━━━\u001b[0m\u001b[37m\u001b[0m \u001b[1m0s\u001b[0m 1ms/step \n",
      "\u001b[1m10/10\u001b[0m \u001b[32m━━━━━━━━━━━━━━━━━━━━\u001b[0m\u001b[37m\u001b[0m \u001b[1m0s\u001b[0m 1ms/step \n",
      "\u001b[1m10/10\u001b[0m \u001b[32m━━━━━━━━━━━━━━━━━━━━\u001b[0m\u001b[37m\u001b[0m \u001b[1m0s\u001b[0m 1ms/step \n",
      "\u001b[1m10/10\u001b[0m \u001b[32m━━━━━━━━━━━━━━━━━━━━\u001b[0m\u001b[37m\u001b[0m \u001b[1m0s\u001b[0m 1ms/step \n",
      "\u001b[1m10/10\u001b[0m \u001b[32m━━━━━━━━━━━━━━━━━━━━\u001b[0m\u001b[37m\u001b[0m \u001b[1m0s\u001b[0m 1ms/step \n",
      "\u001b[1m10/10\u001b[0m \u001b[32m━━━━━━━━━━━━━━━━━━━━\u001b[0m\u001b[37m\u001b[0m \u001b[1m0s\u001b[0m 2ms/step \n",
      "\u001b[1m10/10\u001b[0m \u001b[32m━━━━━━━━━━━━━━━━━━━━\u001b[0m\u001b[37m\u001b[0m \u001b[1m0s\u001b[0m 926us/step\n",
      "\u001b[1m10/10\u001b[0m \u001b[32m━━━━━━━━━━━━━━━━━━━━\u001b[0m\u001b[37m\u001b[0m \u001b[1m0s\u001b[0m 1ms/step \n",
      "\u001b[1m10/10\u001b[0m \u001b[32m━━━━━━━━━━━━━━━━━━━━\u001b[0m\u001b[37m\u001b[0m \u001b[1m0s\u001b[0m 1ms/step \n",
      "\u001b[1m10/10\u001b[0m \u001b[32m━━━━━━━━━━━━━━━━━━━━\u001b[0m\u001b[37m\u001b[0m \u001b[1m0s\u001b[0m 1ms/step \n",
      "\u001b[1m10/10\u001b[0m \u001b[32m━━━━━━━━━━━━━━━━━━━━\u001b[0m\u001b[37m\u001b[0m \u001b[1m0s\u001b[0m 2ms/step \n",
      "\u001b[1m10/10\u001b[0m \u001b[32m━━━━━━━━━━━━━━━━━━━━\u001b[0m\u001b[37m\u001b[0m \u001b[1m0s\u001b[0m 1ms/step \n",
      "\u001b[1m10/10\u001b[0m \u001b[32m━━━━━━━━━━━━━━━━━━━━\u001b[0m\u001b[37m\u001b[0m \u001b[1m0s\u001b[0m 1ms/step \n",
      "\u001b[1m10/10\u001b[0m \u001b[32m━━━━━━━━━━━━━━━━━━━━\u001b[0m\u001b[37m\u001b[0m \u001b[1m0s\u001b[0m 860us/step\n",
      "\u001b[1m10/10\u001b[0m \u001b[32m━━━━━━━━━━━━━━━━━━━━\u001b[0m\u001b[37m\u001b[0m \u001b[1m0s\u001b[0m 1ms/step \n",
      "\u001b[1m10/10\u001b[0m \u001b[32m━━━━━━━━━━━━━━━━━━━━\u001b[0m\u001b[37m\u001b[0m \u001b[1m0s\u001b[0m 1ms/step \n",
      "\u001b[1m10/10\u001b[0m \u001b[32m━━━━━━━━━━━━━━━━━━━━\u001b[0m\u001b[37m\u001b[0m \u001b[1m0s\u001b[0m 2ms/step \n",
      "\u001b[1m10/10\u001b[0m \u001b[32m━━━━━━━━━━━━━━━━━━━━\u001b[0m\u001b[37m\u001b[0m \u001b[1m0s\u001b[0m 1ms/step \n",
      "\u001b[1m10/10\u001b[0m \u001b[32m━━━━━━━━━━━━━━━━━━━━\u001b[0m\u001b[37m\u001b[0m \u001b[1m0s\u001b[0m 1ms/step \n",
      "\u001b[1m10/10\u001b[0m \u001b[32m━━━━━━━━━━━━━━━━━━━━\u001b[0m\u001b[37m\u001b[0m \u001b[1m0s\u001b[0m 827us/step\n",
      "\u001b[1m10/10\u001b[0m \u001b[32m━━━━━━━━━━━━━━━━━━━━\u001b[0m\u001b[37m\u001b[0m \u001b[1m0s\u001b[0m 1ms/step \n",
      "\u001b[1m10/10\u001b[0m \u001b[32m━━━━━━━━━━━━━━━━━━━━\u001b[0m\u001b[37m\u001b[0m \u001b[1m0s\u001b[0m 1ms/step \n",
      "\u001b[1m10/10\u001b[0m \u001b[32m━━━━━━━━━━━━━━━━━━━━\u001b[0m\u001b[37m\u001b[0m \u001b[1m0s\u001b[0m 1ms/step \n",
      "\u001b[1m10/10\u001b[0m \u001b[32m━━━━━━━━━━━━━━━━━━━━\u001b[0m\u001b[37m\u001b[0m \u001b[1m0s\u001b[0m 1ms/step \n",
      "\u001b[1m10/10\u001b[0m \u001b[32m━━━━━━━━━━━━━━━━━━━━\u001b[0m\u001b[37m\u001b[0m \u001b[1m0s\u001b[0m 1ms/step \n",
      "\u001b[1m10/10\u001b[0m \u001b[32m━━━━━━━━━━━━━━━━━━━━\u001b[0m\u001b[37m\u001b[0m \u001b[1m0s\u001b[0m 983us/step\n",
      "\u001b[1m10/10\u001b[0m \u001b[32m━━━━━━━━━━━━━━━━━━━━\u001b[0m\u001b[37m\u001b[0m \u001b[1m0s\u001b[0m 1ms/step \n",
      "\u001b[1m10/10\u001b[0m \u001b[32m━━━━━━━━━━━━━━━━━━━━\u001b[0m\u001b[37m\u001b[0m \u001b[1m0s\u001b[0m 913us/step\n",
      "\u001b[1m10/10\u001b[0m \u001b[32m━━━━━━━━━━━━━━━━━━━━\u001b[0m\u001b[37m\u001b[0m \u001b[1m0s\u001b[0m 1ms/step \n",
      "\u001b[1m10/10\u001b[0m \u001b[32m━━━━━━━━━━━━━━━━━━━━\u001b[0m\u001b[37m\u001b[0m \u001b[1m0s\u001b[0m 1ms/step \n",
      "\u001b[1m10/10\u001b[0m \u001b[32m━━━━━━━━━━━━━━━━━━━━\u001b[0m\u001b[37m\u001b[0m \u001b[1m0s\u001b[0m 842us/step\n",
      "\u001b[1m10/10\u001b[0m \u001b[32m━━━━━━━━━━━━━━━━━━━━\u001b[0m\u001b[37m\u001b[0m \u001b[1m0s\u001b[0m 3ms/step \n",
      "\u001b[1m10/10\u001b[0m \u001b[32m━━━━━━━━━━━━━━━━━━━━\u001b[0m\u001b[37m\u001b[0m \u001b[1m0s\u001b[0m 1ms/step \n",
      "\u001b[1m10/10\u001b[0m \u001b[32m━━━━━━━━━━━━━━━━━━━━\u001b[0m\u001b[37m\u001b[0m \u001b[1m0s\u001b[0m 839us/step\n",
      "\u001b[1m10/10\u001b[0m \u001b[32m━━━━━━━━━━━━━━━━━━━━\u001b[0m\u001b[37m\u001b[0m \u001b[1m0s\u001b[0m 1ms/step \n",
      "\u001b[1m10/10\u001b[0m \u001b[32m━━━━━━━━━━━━━━━━━━━━\u001b[0m\u001b[37m\u001b[0m \u001b[1m0s\u001b[0m 1ms/step \n",
      "\u001b[1m10/10\u001b[0m \u001b[32m━━━━━━━━━━━━━━━━━━━━\u001b[0m\u001b[37m\u001b[0m \u001b[1m0s\u001b[0m 813us/step\n",
      "\u001b[1m10/10\u001b[0m \u001b[32m━━━━━━━━━━━━━━━━━━━━\u001b[0m\u001b[37m\u001b[0m \u001b[1m0s\u001b[0m 2ms/step \n",
      "\u001b[1m10/10\u001b[0m \u001b[32m━━━━━━━━━━━━━━━━━━━━\u001b[0m\u001b[37m\u001b[0m \u001b[1m0s\u001b[0m 1ms/step \n",
      "\u001b[1m10/10\u001b[0m \u001b[32m━━━━━━━━━━━━━━━━━━━━\u001b[0m\u001b[37m\u001b[0m \u001b[1m0s\u001b[0m 1ms/step \n",
      "\u001b[1m10/10\u001b[0m \u001b[32m━━━━━━━━━━━━━━━━━━━━\u001b[0m\u001b[37m\u001b[0m \u001b[1m0s\u001b[0m 1ms/step \n",
      "\u001b[1m10/10\u001b[0m \u001b[32m━━━━━━━━━━━━━━━━━━━━\u001b[0m\u001b[37m\u001b[0m \u001b[1m0s\u001b[0m 1ms/step \n",
      "\u001b[1m10/10\u001b[0m \u001b[32m━━━━━━━━━━━━━━━━━━━━\u001b[0m\u001b[37m\u001b[0m \u001b[1m0s\u001b[0m 1ms/step \n",
      "\u001b[1m10/10\u001b[0m \u001b[32m━━━━━━━━━━━━━━━━━━━━\u001b[0m\u001b[37m\u001b[0m \u001b[1m0s\u001b[0m 1ms/step \n"
     ]
    }
   ],
   "source": [
    "# Step 5: Repeat steps 1-3, 50 times \n",
    "num_repeats = 50\n",
    "mse_list = []\n",
    "for _ in range(num_repeats):\n",
    "    X_train, X_test, y_train, y_test = train_test_split(predictor,target, test_size=0.3, random_state=42)\n",
    "    model.fit(X_train, y_train, epochs=100, verbose=0)\n",
    "    y_pred = model.predict(X_test_norm)\n",
    "    mse_list.append(mean_squared_error(y_test, y_pred))"
   ]
  },
  {
   "cell_type": "markdown",
   "id": "39becea8-47c0-492b-bc7f-803470e7758e",
   "metadata": {},
   "source": [
    "# Report mean and standard deviation of mean squared errors"
   ]
  },
  {
   "cell_type": "code",
   "execution_count": 111,
   "id": "325b5820-0ce7-486e-a99e-9f2167ae8e8e",
   "metadata": {
    "tags": []
   },
   "outputs": [
    {
     "name": "stdout",
     "output_type": "stream",
     "text": [
      "Mean squared error (average over 50 repeats): 1105.82\n",
      "Standard deviation of mean squared errors: 265.75\n"
     ]
    }
   ],
   "source": [
    "# Report mean and standard deviation of mean squared errors\n",
    "mean_mse = np.mean(mse_list)\n",
    "std_mse = np.std(mse_list)\n",
    "\n",
    "print(f\"Mean squared error (average over {num_repeats} repeats): {mean_mse:.2f}\")\n",
    "print(f\"Standard deviation of mean squared errors: {std_mse:.2f}\")"
   ]
  },
  {
   "cell_type": "code",
   "execution_count": null,
   "id": "d2a87e95-85de-4d79-bc9c-7bd43412fba1",
   "metadata": {},
   "outputs": [],
   "source": []
  }
 ],
 "metadata": {
  "kernelspec": {
   "display_name": "Python 3 (ipykernel)",
   "language": "python",
   "name": "python3"
  },
  "language_info": {
   "codemirror_mode": {
    "name": "ipython",
    "version": 3
   },
   "file_extension": ".py",
   "mimetype": "text/x-python",
   "name": "python",
   "nbconvert_exporter": "python",
   "pygments_lexer": "ipython3",
   "version": "3.11.5"
  }
 },
 "nbformat": 4,
 "nbformat_minor": 5
}
